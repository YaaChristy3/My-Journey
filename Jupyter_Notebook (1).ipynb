{
 "cells": [
  {
   "cell_type": "markdown",
   "metadata": {},
   "source": [
    "<center>\n",
    "    <img src=\"https://cf-courses-data.s3.us.cloud-object-storage.appdomain.cloud/IBMDeveloperSkillsNetwork-DS0105EN-SkillsNetwork/labs/Module2/images/SN_web_lightmode.png\" width=\"300\" alt=\"cognitiveclass.ai logo\">\n",
    "</center>\n"
   ]
  },
  {
   "cell_type": "markdown",
   "metadata": {
    "tags": []
   },
   "source": [
    "### MY JOURNEY IN IBM DATA SCIENCE PROFESSIONAL CERTIFICATE COURSE"
   ]
  },
  {
   "cell_type": "markdown",
   "metadata": {},
   "source": [
    "##### BEGINNING THE JOURNEY\n",
    "I began the IBM Data Science Professional Certificate course to advance my career in the tech industry, aiming to acquire essential data science skills to analyze data and solve real-world problems."
   ]
  },
  {
   "cell_type": "markdown",
   "metadata": {
    "tags": []
   },
   "source": [
    "##### THE LEARNING EXPERIENCE\n",
    "The course's well-organized curriculum, covering Introduction to *Data Science*, *Tools for Data Science*, *Cloud Computing*, *Libraries for Data Science*, and *machine learning* and *many more* was highly engaging. Hands-on projects, especially using Jupyter Notebooks, made the learning process interactive and practical."
   ]
  },
  {
   "cell_type": "markdown",
   "metadata": {},
   "source": [
    "##### OVERCOMING CHALLENGES\n",
    "Learning getting started with GitHub hands-on labs were initial hurdles. Utilizing IBM’s resources, lecture videos, supplementary readings, and community forums helped me overcome these challenges."
   ]
  },
  {
   "cell_type": "markdown",
   "metadata": {},
   "source": [
    "##### PROGRESS AND DEVELOPMENT\n",
    "######  Some Skills Gained Through the Course\n",
    "| Skill | Description |\n",
    "| ----- | ----------- |\n",
    "| Python programming | Writing efficient and effective Python code |\n",
    "| Data manipulation | An Example can be using Pandas to clean and prepare data for analysis |\n",
    "| GitHub | Allows to keep track of changes to your document |\n",
    "| Jupyter Notebooks | Allows combining texts, code blocks and code output in a single file |\n",
    "| Machine Learning | Building predictive models |"
   ]
  },
  {
   "cell_type": "markdown",
   "metadata": {},
   "source": [
    "##### SUPPORT AND COMMUNITY\n",
    "The course provided excellent support from instructors and a vibrant peer community, which was crucial for motivation and assistance.\n",
    "The course has been transformative, and I am excited about future opportunities in the data science field."
   ]
  },
  {
   "cell_type": "markdown",
   "metadata": {},
   "source": [
    "##### USEFUL RESOURCES AND LINKS\n",
    "+ [Skills Network](https://skills.network/)\n",
    "+ ***Getting Started with Data Science*** Publisher: *IBM Press; 1 Edition (Dec 13 2015)* Print **Author: Murtaza Haider** "
   ]
  },
  {
   "cell_type": "code",
   "execution_count": null,
   "metadata": {},
   "outputs": [],
   "source": []
  }
 ],
 "metadata": {
  "kernelspec": {
   "display_name": "Python",
   "language": "python",
   "name": "conda-env-python-py"
  },
  "language_info": {
   "codemirror_mode": {
    "name": "ipython",
    "version": 3
   },
   "file_extension": ".py",
   "mimetype": "text/x-python",
   "name": "python",
   "nbconvert_exporter": "python",
   "pygments_lexer": "ipython3",
   "version": "3.7.12"
  }
 },
 "nbformat": 4,
 "nbformat_minor": 4
}
